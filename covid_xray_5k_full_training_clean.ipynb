{
  "cells": [
    {
      "cell_type": "markdown",
      "metadata": {},
      "source": [
        "# COVID-19 X-ray Classification with PyTorch\n",
        "\n",
        "This notebook contains the complete training pipeline for COVID-19 detection using chest X-ray images from the COVID-Xray-5k dataset.\n",
        "\n",
        "## Features:\n",
        "- **Metal Performance Shaders (MPS)** support for Apple Silicon\n",
        "- **Complete training pipeline** with validation and testing\n",
        "- **Real-time visualization** of training progress\n",
        "- **Comprehensive evaluation** with detailed metrics\n",
        "- **Model saving and loading** functionality"
      ]
    },
    {
      "cell_type": "markdown",
      "metadata": {},
      "source": [
        "## 1. Import Libraries and Setup"
      ]
    },
    {
      "cell_type": "code",
      "execution_count": 1,
      "metadata": {},
      "outputs": [
        {
          "name": "stdout",
          "output_type": "stream",
          "text": [
            "All libraries imported successfully!\n",
            "PyTorch version: 2.8.0\n",
            "CUDA available: False\n",
            "MPS available: True\n"
          ]
        }
      ],
      "source": [
        "# Import required libraries\n",
        "import torch\n",
        "import torch.nn as nn\n",
        "import torch.optim as optim\n",
        "from torch.utils.data import Dataset, DataLoader\n",
        "from torchvision import transforms, models\n",
        "import matplotlib.pyplot as plt\n",
        "import numpy as np\n",
        "import pandas as pd\n",
        "from sklearn.metrics import classification_report, confusion_matrix, accuracy_score\n",
        "import seaborn as sns\n",
        "from PIL import Image\n",
        "import os\n",
        "import warnings\n",
        "from datetime import datetime\n",
        "warnings.filterwarnings('ignore')\n",
        "\n",
        "# Set random seeds for reproducibility\n",
        "torch.manual_seed(42)\n",
        "np.random.seed(42)\n",
        "\n",
        "print(\"All libraries imported successfully!\")\n",
        "print(f\"PyTorch version: {torch.__version__}\")\n",
        "print(f\"CUDA available: {torch.cuda.is_available()}\")\n",
        "print(f\"MPS available: {torch.backends.mps.is_available()}\")"
      ]
    },
    {
      "cell_type": "markdown",
      "metadata": {},
      "source": [
        "## Download COVID-Xray-5k Dataset\n",
        "\n",
        "Use this cell to automatically download and extract the dataset into the `data_upload_v3/` folder. If it already exists, the cell will skip downloading and print the structure.\n"
      ]
    },
    {
      "cell_type": "code",
      "execution_count": 2,
      "metadata": {},
      "outputs": [
        {
          "name": "stdout",
          "output_type": "stream",
          "text": [
            "Downloading COVID-Xray-5k dataset...\n",
            "URL: https://www.dropbox.com/scl/fi/ajy4i9u4bjt4ho3dz4l37/data_upload_v3.zip?rlkey=kyh5oz91vykk7cao6jiip4dyn&e=1&dl=1\n",
            "Saving to: covid_xray_5k.zip\n",
            "Download completed: covid_xray_5k.zip\n",
            "File size: 350.79 MB\n",
            "Extracting to: data_upload_v3\n",
            "Extraction completed!\n",
            "Cleaned  Cleaned up: covid_xray_5k.zip\n",
            "\n",
            "Folder Dataset structure:\n",
            "  Subfolder test/: ['non', 'covid']\n",
            "    Folder non/: 0 images\n",
            "    Folder covid/: 100 images\n",
            "  Subfolder train/: ['non', 'covid']\n",
            "    Folder non/: 2000 images\n",
            "    Folder covid/: 84 images\n",
            "\n",
            "Success Dataset ready for training!\n"
          ]
        }
      ],
      "source": [
        "# Download the COVID-Xray-5k dataset from Dropbox\n",
        "import urllib.request\n",
        "import zipfile\n",
        "import shutil\n",
        "import os\n",
        "\n",
        "\n",
        "def download_dataset():\n",
        "    \"\"\"Download and extract the COVID-Xray-5k dataset\"\"\"\n",
        "\n",
        "    # Dataset URL (Dropbox link)\n",
        "    dataset_url = \"https://www.dropbox.com/scl/fi/ajy4i9u4bjt4ho3dz4l37/data_upload_v3.zip?rlkey=kyh5oz91vykk7cao6jiip4dyn&e=1&dl=1\"\n",
        "    zip_filename = \"covid_xray_5k.zip\"\n",
        "    extract_dir = \"data_upload_v3\"\n",
        "\n",
        "    # Check if dataset already exists\n",
        "    if os.path.exists(extract_dir):\n",
        "        print(f\"Dataset already exists at: {extract_dir}\")\n",
        "        print(f\"Contents: {os.listdir(extract_dir)}\")\n",
        "        return True\n",
        "\n",
        "    print(\"Downloading COVID-Xray-5k dataset...\")\n",
        "    print(f\"URL: {dataset_url}\")\n",
        "    print(f\"Saving to: {zip_filename}\")\n",
        "\n",
        "    try:\n",
        "        # Download the dataset\n",
        "        urllib.request.urlretrieve(dataset_url, zip_filename)\n",
        "        print(f\"Download completed: {zip_filename}\")\n",
        "\n",
        "        # Get file size\n",
        "        file_size = os.path.getsize(zip_filename) / (1024 * 1024)  # MB\n",
        "        print(f\"File size: {file_size:.2f} MB\")\n",
        "\n",
        "        # Extract the dataset\n",
        "        print(f\"Extracting to: {extract_dir}\")\n",
        "        with zipfile.ZipFile(zip_filename, 'r') as zip_ref:\n",
        "            zip_ref.extractall(\".\")\n",
        "\n",
        "        print(f\"Extraction completed!\")\n",
        "\n",
        "        # Clean up zip file\n",
        "        os.remove(zip_filename)\n",
        "        print(f\"Cleaned  Cleaned up: {zip_filename}\")\n",
        "\n",
        "        # Verify dataset structure\n",
        "        if os.path.exists(extract_dir):\n",
        "            print(f\"\\nFolder Dataset structure:\")\n",
        "            for item in os.listdir(extract_dir):\n",
        "                item_path = os.path.join(extract_dir, item)\n",
        "                if os.path.isdir(item_path):\n",
        "                    subdirs = os.listdir(item_path)\n",
        "                    print(f\"  Subfolder {item}/: {subdirs}\")\n",
        "                    for subdir in subdirs:\n",
        "                        subdir_path = os.path.join(item_path, subdir)\n",
        "                        if os.path.isdir(subdir_path):\n",
        "                            file_count = len([f for f in os.listdir(subdir_path)\n",
        "                                               if f.lower().endswith(('.jpg', '.jpeg', '.png', '.bmp', '.tiff'))])\n",
        "                            print(f\"    Folder {subdir}/: {file_count} images\")\n",
        "\n",
        "        print(f\"\\nSuccess Dataset ready for training!\")\n",
        "        return True\n",
        "\n",
        "    except Exception as e:\n",
        "        print(f\"Error downloading dataset: {e}\")\n",
        "        print(f\"Please check your internet connection and try again\")\n",
        "        return False\n",
        "\n",
        "\n",
        "# Download the dataset\n",
        "dataset_ready = download_dataset()\n",
        "\n",
        "if not dataset_ready:\n",
        "    print(\"\\nWarning  Dataset download failed. Please check the error above.\")\n",
        "    print(\"You can manually download the dataset from:\")\n",
        "    print(\"https://www.dropbox.com/scl/fi/ajy4i9u4bjt4ho3dz4l37/data_upload_v3.zip?rlkey=kyh5oz91vykk7cao6jiip4dyn&e=1&dl=0\")\n",
        "    print(\"And extract it to 'data_upload_v3' directory.\")\n"
      ]
    },
    {
      "cell_type": "markdown",
      "metadata": {},
      "source": [
        "## 2. Device Configuration (Apple Silicon Optimized)"
      ]
    },
    {
      "cell_type": "code",
      "execution_count": 3,
      "metadata": {},
      "outputs": [
        {
          "name": "stdout",
          "output_type": "stream",
          "text": [
            "Using Metal Performance Shaders (MPS) on Apple Silicon\n",
            "Selected device: mps\n"
          ]
        }
      ],
      "source": [
        "def get_device():\n",
        "    \"\"\"Get the best available device with Metal support for Apple Silicon\"\"\"\n",
        "    if torch.backends.mps.is_available():\n",
        "        device = torch.device(\"mps\")\n",
        "        print(\"Using Metal Performance Shaders (MPS) on Apple Silicon\")\n",
        "        return device\n",
        "    elif torch.cuda.is_available():\n",
        "        device = torch.device(\"cuda\")\n",
        "        print(\"Using CUDA GPU\")\n",
        "        return device\n",
        "    else:\n",
        "        device = torch.device(\"cpu\")\n",
        "        print(\"Using CPU (Metal/CUDA not available)\")\n",
        "        return device\n",
        "\n",
        "# Get the device\n",
        "device = get_device()\n",
        "print(f\"Selected device: {device}\")"
      ]
    },
    {
      "cell_type": "markdown",
      "metadata": {},
      "source": [
        "## 3. Dataset Class for COVID-Xray-5k"
      ]
    },
    {
      "cell_type": "code",
      "execution_count": 4,
      "metadata": {},
      "outputs": [
        {
          "name": "stdout",
          "output_type": "stream",
          "text": [
            "COVIDXray5kDataset class defined!\n"
          ]
        }
      ],
      "source": [
        "class COVIDXray5kDataset(Dataset):\n",
        "    \"\"\"Dataset class for COVID-Xray-5k dataset with proper train/test split\"\"\"\n",
        "    \n",
        "    def __init__(self, data_dir, split='train', transform=None, target_size=(224, 224)):\n",
        "        self.data_dir = data_dir\n",
        "        self.split = split\n",
        "        self.transform = transform\n",
        "        self.target_size = target_size\n",
        "        \n",
        "        # Define paths\n",
        "        self.covid_path = os.path.join(data_dir, split, 'covid')\n",
        "        self.non_covid_path = os.path.join(data_dir, split, 'non')\n",
        "        \n",
        "        # Get file lists (recursively to handle deeper folder structures)\n",
        "        self.covid_files = self._get_image_files(self.covid_path)\n",
        "        self.non_covid_files = self._get_image_files(self.non_covid_path)\n",
        "        \n",
        "        # Create labels: 0 for non-COVID, 1 for COVID\n",
        "        self.files = self.non_covid_files + self.covid_files\n",
        "        self.labels = [0] * len(self.non_covid_files) + [1] * len(self.covid_files)\n",
        "        \n",
        "        # Shuffle only for training split to avoid data leakage concerns in eval\n",
        "        if self.split == 'train':\n",
        "            indices = np.arange(len(self.files))\n",
        "            np.random.shuffle(indices)\n",
        "            self.files = [self.files[i] for i in indices]\n",
        "            self.labels = [self.labels[i] for i in indices]\n",
        "        \n",
        "        print(f\"{split.capitalize()} dataset loaded:\")\n",
        "        print(f\"  COVID-19: {len(self.covid_files)} images\")\n",
        "        print(f\"  Non-COVID: {len(self.non_covid_files)} images\")\n",
        "        print(f\"  Total: {len(self.files)} images\")\n",
        "    \n",
        "    def _get_image_files(self, directory):\n",
        "        \"\"\"Recursively collect image files from a directory and all subdirectories\"\"\"\n",
        "        image_extensions = {'.jpg', '.jpeg', '.png', '.bmp', '.tiff'}\n",
        "        files = []\n",
        "        if not os.path.exists(directory):\n",
        "            print(f\"Warning  Directory not found: {directory}\")\n",
        "            return files\n",
        "        for root, _, filenames in os.walk(directory):\n",
        "            for filename in filenames:\n",
        "                if any(filename.lower().endswith(ext) for ext in image_extensions):\n",
        "                    files.append(os.path.join(root, filename))\n",
        "        return files\n",
        "    \n",
        "    def __len__(self):\n",
        "        return len(self.files)\n",
        "    \n",
        "    def __getitem__(self, idx):\n",
        "        img_path = self.files[idx]\n",
        "        label = self.labels[idx]\n",
        "        \n",
        "        # Load and preprocess image\n",
        "        try:\n",
        "            image = Image.open(img_path).convert('L')  # Convert to grayscale\n",
        "            \n",
        "            if self.transform:\n",
        "                image = self.transform(image)\n",
        "            \n",
        "            return image, label\n",
        "            \n",
        "        except Exception as e:\n",
        "            print(f\"Error loading image {img_path}: {e}\")\n",
        "            # Return a dummy image if loading fails\n",
        "            dummy_img = Image.new('L', self.target_size, 128)\n",
        "            if self.transform:\n",
        "                dummy_img = self.transform(dummy_img)\n",
        "            return dummy_img, label\n",
        "\n",
        "print(\"COVIDXray5kDataset class defined!\")"
      ]
    },
    {
      "cell_type": "markdown",
      "metadata": {},
      "source": [
        "## 4. CNN Model Architecture (ResNet18-based)"
      ]
    },
    {
      "cell_type": "code",
      "execution_count": 5,
      "metadata": {},
      "outputs": [
        {
          "name": "stdout",
          "output_type": "stream",
          "text": [
            "COVID19Classifier model defined!\n"
          ]
        }
      ],
      "source": [
        "class COVID19Classifier(nn.Module):\n",
        "    \"\"\"CNN-based classifier for COVID-19 detection optimized for Apple Silicon\"\"\"\n",
        "    \n",
        "    def __init__(self, num_classes=2, pretrained=True):\n",
        "        super(COVID19Classifier, self).__init__()\n",
        "        \n",
        "        # Use ResNet18 as backbone\n",
        "        self.backbone = models.resnet18(pretrained=pretrained)\n",
        "        \n",
        "        # Modify first layer to accept grayscale images\n",
        "        self.backbone.conv1 = nn.Conv2d(1, 64, kernel_size=7, stride=2, padding=3, bias=False)\n",
        "        \n",
        "        # Modify final layer for binary classification with Metal-optimized layers\n",
        "        num_features = self.backbone.fc.in_features\n",
        "        self.backbone.fc = nn.Sequential(\n",
        "            nn.Dropout(0.5),\n",
        "            nn.Linear(num_features, 512),\n",
        "            nn.ReLU(),\n",
        "            nn.Dropout(0.3),\n",
        "            nn.Linear(512, num_classes)\n",
        "        )\n",
        "        \n",
        "        # Initialize weights for better Metal performance\n",
        "        self._initialize_weights()\n",
        "    \n",
        "    def _initialize_weights(self):\n",
        "        \"\"\"Initialize weights for better Metal performance\"\"\"\n",
        "        for m in self.modules():\n",
        "            if isinstance(m, nn.Conv2d):\n",
        "                nn.init.kaiming_normal_(m.weight, mode='fan_out', nonlinearity='relu')\n",
        "                if m.bias is not None:\n",
        "                    nn.init.constant_(m.bias, 0)\n",
        "            elif isinstance(m, nn.BatchNorm2d):\n",
        "                nn.init.constant_(m.weight, 1)\n",
        "                nn.init.constant_(m.bias, 0)\n",
        "            elif isinstance(m, nn.Linear):\n",
        "                nn.init.normal_(m.weight, 0, 0.01)\n",
        "                nn.init.constant_(m.bias, 0)\n",
        "    \n",
        "    def forward(self, x):\n",
        "        return self.backbone(x)\n",
        "\n",
        "print(\"COVID19Classifier model defined!\")"
      ]
    },
    {
      "cell_type": "markdown",
      "metadata": {},
      "source": [
        "## 5. Image Transformations"
      ]
    },
    {
      "cell_type": "code",
      "execution_count": 6,
      "metadata": {},
      "outputs": [
        {
          "name": "stdout",
          "output_type": "stream",
          "text": [
            "Image transformations defined!\n",
            "Training transforms: 6 steps\n",
            "Validation transforms: 3 steps\n"
          ]
        }
      ],
      "source": [
        "def get_transforms(target_size=(224, 224)):\n",
        "    \"\"\"Get image transformations optimized for Metal performance\"\"\"\n",
        "    \n",
        "    train_transform = transforms.Compose([\n",
        "        transforms.Resize(target_size),\n",
        "        transforms.RandomHorizontalFlip(p=0.5),\n",
        "        transforms.RandomRotation(degrees=10),\n",
        "        transforms.ColorJitter(brightness=0.2, contrast=0.2),\n",
        "        transforms.ToTensor(),\n",
        "        transforms.Normalize(mean=[0.485], std=[0.229])  # Grayscale normalization\n",
        "    ])\n",
        "    \n",
        "    val_transform = transforms.Compose([\n",
        "        transforms.Resize(target_size),\n",
        "        transforms.ToTensor(),\n",
        "        transforms.Normalize(mean=[0.485], std=[0.229])\n",
        "    ])\n",
        "    \n",
        "    return train_transform, val_transform\n",
        "\n",
        "# Get transforms\n",
        "train_transform, val_transform = get_transforms()\n",
        "print(\"Image transformations defined!\")\n",
        "print(f\"Training transforms: {len(train_transform.transforms)} steps\")\n",
        "print(f\"Validation transforms: {len(val_transform.transforms)} steps\")"
      ]
    },
    {
      "cell_type": "markdown",
      "metadata": {},
      "source": [
        "## 6. Training Function"
      ]
    },
    {
      "cell_type": "code",
      "execution_count": 7,
      "metadata": {},
      "outputs": [
        {
          "name": "stdout",
          "output_type": "stream",
          "text": [
            "Training function defined!\n"
          ]
        }
      ],
      "source": [
        "def train_model(model, train_loader, val_loader, criterion, optimizer, scheduler, num_epochs, device):\n",
        "    \"\"\"Training loop optimized for Metal performance\"\"\"\n",
        "    \n",
        "    train_losses = []\n",
        "    val_losses = []\n",
        "    train_accuracies = []\n",
        "    val_accuracies = []\n",
        "    \n",
        "    best_val_acc = 0.0\n",
        "    \n",
        "    # Enable Metal optimizations\n",
        "    if device.type == 'mps' and hasattr(torch.backends.mps, 'empty_cache'):\n",
        "        torch.backends.mps.empty_cache()\n",
        "    \n",
        "    for epoch in range(num_epochs):\n",
        "        # Training phase\n",
        "        model.train()\n",
        "        running_loss = 0.0\n",
        "        correct = 0\n",
        "        total = 0\n",
        "        \n",
        "        for batch_idx, (images, labels) in enumerate(train_loader):\n",
        "            images, labels = images.to(device), labels.to(device)\n",
        "            \n",
        "            optimizer.zero_grad()\n",
        "            outputs = model(images)\n",
        "            loss = criterion(outputs, labels)\n",
        "            loss.backward()\n",
        "            optimizer.step()\n",
        "            \n",
        "            running_loss += loss.item()\n",
        "            _, predicted = torch.max(outputs.data, 1)\n",
        "            total += labels.size(0)\n",
        "            correct += (predicted == labels).sum().item()\n",
        "            \n",
        "            # Progress update every 50 batches\n",
        "            if (batch_idx + 1) % 50 == 0:\n",
        "                print(f'Epoch [{epoch+1}/{num_epochs}] Batch [{batch_idx+1}/{len(train_loader)}] '\n",
        "                      f'Loss: {loss.item():.4f}')\n",
        "        \n",
        "        train_loss = running_loss / len(train_loader)\n",
        "        train_acc = 100 * correct / total\n",
        "        train_losses.append(train_loss)\n",
        "        train_accuracies.append(train_acc)\n",
        "        \n",
        "        # Validation phase\n",
        "        model.eval()\n",
        "        running_loss = 0.0\n",
        "        correct = 0\n",
        "        total = 0\n",
        "        \n",
        "        with torch.no_grad():\n",
        "            for images, labels in val_loader:\n",
        "                images, labels = images.to(device), labels.to(device)\n",
        "                outputs = model(images)\n",
        "                loss = criterion(outputs, labels)\n",
        "                \n",
        "                running_loss += loss.item()\n",
        "                _, predicted = torch.max(outputs.data, 1)\n",
        "                total += labels.size(0)\n",
        "                correct += (predicted == labels).sum().item()\n",
        "        \n",
        "        val_loss = running_loss / len(val_loader)\n",
        "        val_acc = 100 * correct / total\n",
        "        val_losses.append(val_loss)\n",
        "        val_accuracies.append(val_acc)\n",
        "        \n",
        "        # Learning rate scheduling\n",
        "        scheduler.step(val_loss)\n",
        "        \n",
        "        # Save best model\n",
        "        if val_acc > best_val_acc:\n",
        "            best_val_acc = val_acc\n",
        "            torch.save(model.state_dict(), 'best_covid_xray_5k_classifier.pth')\n",
        "            print(f'Saving New best model saved! Validation Accuracy: {val_acc:.2f}%')\n",
        "        \n",
        "        print(f'Epoch [{epoch+1}/{num_epochs}]')\n",
        "        print(f'Train Loss: {train_loss:.4f}, Train Acc: {train_acc:.2f}%')\n",
        "        print(f'Val Loss: {val_loss:.4f}, Val Acc: {val_acc:.2f}%')\n",
        "        print('-' * 50)\n",
        "        \n",
        "        # Clear Metal cache periodically\n",
        "        if device.type == 'mps' and epoch % 5 == 0 and hasattr(torch.backends.mps, 'empty_cache'):\n",
        "            torch.backends.mps.empty_cache()\n",
        "    \n",
        "    return train_losses, val_losses, train_accuracies, val_accuracies\n",
        "\n",
        "print(\"Training function defined!\")"
      ]
    },
    {
      "cell_type": "markdown",
      "metadata": {},
      "source": [
        "## 7. Model Evaluation Function"
      ]
    },
    {
      "cell_type": "code",
      "execution_count": 8,
      "metadata": {},
      "outputs": [
        {
          "name": "stdout",
          "output_type": "stream",
          "text": [
            "Model evaluation function defined!\n"
          ]
        }
      ],
      "source": [
        "def evaluate_model(model, test_loader, device):\n",
        "    \"\"\"Evaluate the trained model with Metal optimizations\"\"\"\n",
        "    \n",
        "    model.eval()\n",
        "    all_predictions = []\n",
        "    all_labels = []\n",
        "    \n",
        "    with torch.no_grad():\n",
        "        for images, labels in test_loader:\n",
        "            images, labels = images.to(device), labels.to(device)\n",
        "            outputs = model(images)\n",
        "            _, predicted = torch.max(outputs.data, 1)\n",
        "            \n",
        "            all_predictions.extend(predicted.cpu().numpy())\n",
        "            all_labels.extend(labels.cpu().numpy())\n",
        "    \n",
        "    # Calculate metrics\n",
        "    accuracy = accuracy_score(all_labels, all_predictions)\n",
        "    report = classification_report(all_labels, all_predictions, target_names=['Non-COVID', 'COVID-19'])\n",
        "    conf_matrix = confusion_matrix(all_labels, all_predictions)\n",
        "    \n",
        "    return accuracy, report, conf_matrix, all_predictions, all_labels\n",
        "\n",
        "print(\"Model evaluation function defined!\")"
      ]
    },
    {
      "cell_type": "markdown",
      "metadata": {},
      "source": [
        "## 8. Visualization Functions"
      ]
    },
    {
      "cell_type": "code",
      "execution_count": 9,
      "metadata": {},
      "outputs": [
        {
          "name": "stdout",
          "output_type": "stream",
          "text": [
            "Visualization functions defined!\n"
          ]
        }
      ],
      "source": [
        "def plot_training_history(train_losses, val_losses, train_accuracies, val_accuracies):\n",
        "    \"\"\"Plot training history\"\"\"\n",
        "    \n",
        "    fig, (ax1, ax2) = plt.subplots(1, 2, figsize=(15, 5))\n",
        "    \n",
        "    # Plot losses\n",
        "    ax1.plot(train_losses, label='Training Loss', color='blue')\n",
        "    ax1.plot(val_losses, label='Validation Loss', color='red')\n",
        "    ax1.set_title('Training and Validation Loss', fontsize=14, fontweight='bold')\n",
        "    ax1.set_xlabel('Epoch')\n",
        "    ax1.set_ylabel('Loss')\n",
        "    ax1.legend()\n",
        "    ax1.grid(True, alpha=0.3)\n",
        "    \n",
        "    # Plot accuracies\n",
        "    ax2.plot(train_accuracies, label='Training Accuracy', color='blue')\n",
        "    ax2.plot(val_accuracies, label='Validation Accuracy', color='red')\n",
        "    ax2.set_title('Training and Validation Accuracy', fontsize=14, fontweight='bold')\n",
        "    ax2.set_xlabel('Epoch')\n",
        "    ax2.set_ylabel('Accuracy (%)')\n",
        "    ax2.legend()\n",
        "    ax2.grid(True, alpha=0.3)\n",
        "    \n",
        "    plt.tight_layout()\n",
        "    plt.show()\n",
        "\n",
        "def plot_confusion_matrix(conf_matrix):\n",
        "    \"\"\"Plot confusion matrix\"\"\"\n",
        "    \n",
        "    plt.figure(figsize=(8, 6))\n",
        "    sns.heatmap(conf_matrix, annot=True, fmt='d', cmap='Blues',\n",
        "                xticklabels=['Non-COVID', 'COVID-19'],\n",
        "                yticklabels=['Non-COVID', 'COVID-19'])\n",
        "    plt.title('Confusion Matrix', fontsize=14, fontweight='bold')\n",
        "    plt.xlabel('Predicted')\n",
        "    plt.ylabel('Actual')\n",
        "    plt.show()\n",
        "\n",
        "print(\"Visualization functions defined!\")"
      ]
    },
    {
      "cell_type": "markdown",
      "metadata": {},
      "source": [
        "## 9. Load and Prepare Dataset"
      ]
    },
    {
      "cell_type": "code",
      "execution_count": 10,
      "metadata": {},
      "outputs": [
        {
          "name": "stdout",
          "output_type": "stream",
          "text": [
            "  Dataset Configuration:\n",
            "  Data directory: data_upload_v3\n",
            "  Batch size: 64\n",
            "  Learning rate: 0.001\n",
            "  Number of epochs: 30\n",
            "  Target size: (224, 224)\n",
            "  Device: mps\n",
            "\n",
            "🔄 Loading COVID-Xray-5k datasets...\n",
            "Train dataset loaded:\n",
            "  COVID-19: 84 images\n",
            "  Non-COVID: 2000 images\n",
            "  Total: 2084 images\n",
            "Test dataset loaded:\n",
            "  COVID-19: 100 images\n",
            "  Non-COVID: 3000 images\n",
            "  Total: 3100 images\n",
            "\n",
            "Testing Test dataset breakdown (recursive):\n",
            "  COVID images: 100\n",
            "  Non-COVID images: 3000\n",
            "  Total test images: 3100\n",
            "  Example Non-COVID files:\n",
            "    - data_upload_v3/test/non/Lung_Lesion/patient08653-study1-view1_frontal.jpg\n",
            "    - data_upload_v3/test/non/Lung_Lesion/patient06958-study2-view1_frontal.jpg\n",
            "    - data_upload_v3/test/non/Lung_Lesion/patient06757-study1-view1_frontal.jpg\n",
            "    - data_upload_v3/test/non/Lung_Lesion/patient06168-study3-view1_frontal.jpg\n",
            "    - data_upload_v3/test/non/Lung_Lesion/patient09442-study1-view1_frontal.jpg\n",
            "\n",
            "Training Dataset Split:\n",
            "  Train samples: 1667\n",
            "  Validation samples: 417\n",
            "  Test samples: 3100\n"
          ]
        }
      ],
      "source": [
        "# Hyperparameters optimized for Metal performance\n",
        "BATCH_SIZE = 64 if device.type == 'mps' else 32  # Larger batch size for Metal\n",
        "LEARNING_RATE = 0.001\n",
        "NUM_EPOCHS = 30\n",
        "TARGET_SIZE = (224, 224)\n",
        "\n",
        "# Data paths - using the proper COVID-Xray-5k dataset\n",
        "DATA_DIR = \"data_upload_v3\"\n",
        "\n",
        "print(f\"  Dataset Configuration:\")\n",
        "print(f\"  Data directory: {DATA_DIR}\")\n",
        "print(f\"  Batch size: {BATCH_SIZE}\")\n",
        "print(f\"  Learning rate: {LEARNING_RATE}\")\n",
        "print(f\"  Number of epochs: {NUM_EPOCHS}\")\n",
        "print(f\"  Target size: {TARGET_SIZE}\")\n",
        "print(f\"  Device: {device}\")\n",
        "\n",
        "# Create datasets using the proper split\n",
        "print(\"\\n🔄 Loading COVID-Xray-5k datasets...\")\n",
        "train_dataset = COVIDXray5kDataset(DATA_DIR, split='train', transform=train_transform, target_size=TARGET_SIZE)\n",
        "test_dataset = COVIDXray5kDataset(DATA_DIR, split='test', transform=val_transform, target_size=TARGET_SIZE)\n",
        "\n",
        "# Additional debug info to ensure all test data is considered (recursive)\n",
        "print(\"\\nTesting Test dataset breakdown (recursive):\")\n",
        "print(f\"  COVID images: {len(test_dataset.covid_files)}\")\n",
        "print(f\"  Non-COVID images: {len(test_dataset.non_covid_files)}\")\n",
        "print(f\"  Total test images: {len(test_dataset)}\")\n",
        "if len(test_dataset.non_covid_files) > 0:\n",
        "    print(\"  Example Non-COVID files:\")\n",
        "    for p in test_dataset.non_covid_files[:5]:\n",
        "        print(f\"    - {p}\")\n",
        "\n",
        "# Split training data into train/validation (80/20)\n",
        "train_size = int(0.8 * len(train_dataset))\n",
        "val_size = len(train_dataset) - train_size\n",
        "train_dataset, val_dataset = torch.utils.data.random_split(train_dataset, [train_size, val_size])\n",
        "\n",
        "# Update transforms for validation set\n",
        "val_dataset.dataset.transform = val_transform\n",
        "\n",
        "print(f\"\\nTraining Dataset Split:\")\n",
        "print(f\"  Train samples: {len(train_dataset)}\")\n",
        "print(f\"  Validation samples: {len(val_dataset)}\")\n",
        "print(f\"  Test samples: {len(test_dataset)}\")"
      ]
    },
    {
      "cell_type": "markdown",
      "metadata": {},
      "source": [
        "## 10. Create Data Loaders"
      ]
    },
    {
      "cell_type": "code",
      "execution_count": 11,
      "metadata": {},
      "outputs": [
        {
          "name": "stdout",
          "output_type": "stream",
          "text": [
            "  Data loaders created!\n",
            "  Train batches: 27\n",
            "  Validation batches: 7\n",
            "  Test batches: 49\n",
            "  Number of workers: 0\n"
          ]
        }
      ],
      "source": [
        "# Create data loaders with Metal-optimized settings\n",
        "num_workers = 0 if device.type == 'mps' else 4  # No multiprocessing for Metal\n",
        "\n",
        "train_loader = DataLoader(train_dataset, batch_size=BATCH_SIZE, shuffle=True, num_workers=num_workers)\n",
        "val_loader = DataLoader(val_dataset, batch_size=BATCH_SIZE, shuffle=False, num_workers=num_workers)\n",
        "test_loader = DataLoader(test_dataset, batch_size=BATCH_SIZE, shuffle=False, num_workers=num_workers)\n",
        "\n",
        "print(f\"  Data loaders created!\")\n",
        "print(f\"  Train batches: {len(train_loader)}\")\n",
        "print(f\"  Validation batches: {len(val_loader)}\")\n",
        "print(f\"  Test batches: {len(test_loader)}\")\n",
        "print(f\"  Number of workers: {num_workers}\")"
      ]
    },
    {
      "cell_type": "markdown",
      "metadata": {},
      "source": [
        "## 11. Initialize Model and Optimizer"
      ]
    },
    {
      "cell_type": "markdown",
      "metadata": {},
      "source": []
    },
    {
      "cell_type": "code",
      "execution_count": 12,
      "metadata": {},
      "outputs": [
        {
          "name": "stdout",
          "output_type": "stream",
          "text": [
            "Model  Model Architecture:\n",
            "  Total parameters: 11,433,922\n",
            "  Trainable parameters: 11,433,922\n",
            "  Model device: mps:0\n",
            "\n",
            "Config  Training Configuration:\n",
            "  Loss function: CrossEntropyLoss\n",
            "  Optimizer: AdamW (lr=0.001)\n",
            "  Scheduler: ReduceLROnPlateau\n",
            "  Weight decay: 1e-4\n"
          ]
        }
      ],
      "source": [
        "# Initialize model\n",
        "model = COVID19Classifier(num_classes=2, pretrained=True).to(device)\n",
        "\n",
        "# Print model summary\n",
        "total_params = sum(p.numel() for p in model.parameters())\n",
        "trainable_params = sum(p.numel() for p in model.parameters() if p.requires_grad)\n",
        "print(f\"Model  Model Architecture:\")\n",
        "print(f\"  Total parameters: {total_params:,}\")\n",
        "print(f\"  Trainable parameters: {trainable_params:,}\")\n",
        "print(f\"  Model device: {next(model.parameters()).device}\")\n",
        "\n",
        "# Loss function and optimizer\n",
        "criterion = nn.CrossEntropyLoss()\n",
        "optimizer = optim.AdamW(model.parameters(), lr=LEARNING_RATE, weight_decay=1e-4)  # AdamW for better Metal performance\n",
        "scheduler = optim.lr_scheduler.ReduceLROnPlateau(optimizer, mode='min', patience=5, factor=0.5)\n",
        "\n",
        "print(f\"\\nConfig  Training Configuration:\")\n",
        "print(f\"  Loss function: CrossEntropyLoss\")\n",
        "print(f\"  Optimizer: AdamW (lr={LEARNING_RATE})\")\n",
        "print(f\"  Scheduler: ReduceLROnPlateau\")\n",
        "print(f\"  Weight decay: 1e-4\")"
      ]
    },
    {
      "cell_type": "markdown",
      "metadata": {},
      "source": [
        "## 12. Start Training! "
      ]
    },
    {
      "cell_type": "code",
      "execution_count": 13,
      "metadata": {},
      "outputs": [
        {
          "name": "stdout",
          "output_type": "stream",
          "text": [
            " Starting training...\n",
            "Training will run for 30 epochs\n",
            "Best model will be saved as 'best_covid_xray_5k_classifier.pth'\n",
            "============================================================\n",
            "Saving New best model saved! Validation Accuracy: 95.92%\n",
            "Epoch [1/30]\n",
            "Train Loss: 0.1629, Train Acc: 93.46%\n",
            "Val Loss: 0.3383, Val Acc: 95.92%\n",
            "--------------------------------------------------\n",
            "Saving New best model saved! Validation Accuracy: 99.52%\n",
            "Epoch [2/30]\n",
            "Train Loss: 0.0563, Train Acc: 96.46%\n",
            "Val Loss: 0.0658, Val Acc: 99.52%\n",
            "--------------------------------------------------\n",
            "Epoch [3/30]\n",
            "Train Loss: 0.0376, Train Acc: 98.50%\n",
            "Val Loss: 0.0339, Val Acc: 99.52%\n",
            "--------------------------------------------------\n",
            "Epoch [4/30]\n",
            "Train Loss: 0.0373, Train Acc: 98.68%\n",
            "Val Loss: 0.0682, Val Acc: 98.80%\n",
            "--------------------------------------------------\n",
            "Epoch [5/30]\n",
            "Train Loss: 0.0314, Train Acc: 98.68%\n",
            "Val Loss: 0.0924, Val Acc: 98.56%\n",
            "--------------------------------------------------\n",
            "Epoch [6/30]\n",
            "Train Loss: 0.0212, Train Acc: 99.16%\n",
            "Val Loss: 0.0274, Val Acc: 99.52%\n",
            "--------------------------------------------------\n",
            "Epoch [7/30]\n",
            "Train Loss: 0.0320, Train Acc: 98.86%\n",
            "Val Loss: 0.0301, Val Acc: 99.52%\n",
            "--------------------------------------------------\n",
            "Epoch [8/30]\n",
            "Train Loss: 0.0214, Train Acc: 99.34%\n",
            "Val Loss: 0.0179, Val Acc: 99.52%\n",
            "--------------------------------------------------\n",
            "Epoch [9/30]\n",
            "Train Loss: 0.0179, Train Acc: 99.34%\n",
            "Val Loss: 1.1757, Val Acc: 59.23%\n",
            "--------------------------------------------------\n",
            "Saving New best model saved! Validation Accuracy: 99.76%\n",
            "Epoch [10/30]\n",
            "Train Loss: 0.0334, Train Acc: 99.10%\n",
            "Val Loss: 0.0148, Val Acc: 99.76%\n",
            "--------------------------------------------------\n",
            "Epoch [11/30]\n",
            "Train Loss: 0.0250, Train Acc: 99.22%\n",
            "Val Loss: 0.0482, Val Acc: 99.04%\n",
            "--------------------------------------------------\n",
            "Epoch [12/30]\n",
            "Train Loss: 0.0267, Train Acc: 99.10%\n",
            "Val Loss: 0.0784, Val Acc: 98.80%\n",
            "--------------------------------------------------\n",
            "Epoch [13/30]\n",
            "Train Loss: 0.0212, Train Acc: 99.40%\n",
            "Val Loss: 0.0285, Val Acc: 99.52%\n",
            "--------------------------------------------------\n",
            "Epoch [14/30]\n",
            "Train Loss: 0.0190, Train Acc: 99.34%\n",
            "Val Loss: 0.0218, Val Acc: 99.52%\n",
            "--------------------------------------------------\n",
            "Epoch [15/30]\n",
            "Train Loss: 0.0142, Train Acc: 99.58%\n",
            "Val Loss: 0.0188, Val Acc: 99.52%\n",
            "--------------------------------------------------\n",
            "Epoch [16/30]\n",
            "Train Loss: 0.0100, Train Acc: 99.46%\n",
            "Val Loss: 0.0307, Val Acc: 99.28%\n",
            "--------------------------------------------------\n",
            "Epoch [17/30]\n",
            "Train Loss: 0.0067, Train Acc: 99.64%\n",
            "Val Loss: 0.0263, Val Acc: 99.52%\n",
            "--------------------------------------------------\n",
            "Epoch [18/30]\n",
            "Train Loss: 0.0051, Train Acc: 99.82%\n",
            "Val Loss: 0.0114, Val Acc: 99.52%\n",
            "--------------------------------------------------\n",
            "Epoch [19/30]\n",
            "Train Loss: 0.0026, Train Acc: 99.94%\n",
            "Val Loss: 0.0195, Val Acc: 99.04%\n",
            "--------------------------------------------------\n",
            "Epoch [20/30]\n",
            "Train Loss: 0.0007, Train Acc: 100.00%\n",
            "Val Loss: 0.0142, Val Acc: 99.52%\n",
            "--------------------------------------------------\n",
            "Epoch [21/30]\n",
            "Train Loss: 0.0041, Train Acc: 99.88%\n",
            "Val Loss: 0.0196, Val Acc: 99.52%\n",
            "--------------------------------------------------\n",
            "Epoch [22/30]\n",
            "Train Loss: 0.0031, Train Acc: 99.88%\n",
            "Val Loss: 0.0280, Val Acc: 99.52%\n",
            "--------------------------------------------------\n",
            "Epoch [23/30]\n",
            "Train Loss: 0.0015, Train Acc: 99.88%\n",
            "Val Loss: 0.0252, Val Acc: 99.52%\n",
            "--------------------------------------------------\n",
            "Epoch [24/30]\n",
            "Train Loss: 0.0014, Train Acc: 100.00%\n",
            "Val Loss: 0.0160, Val Acc: 99.52%\n",
            "--------------------------------------------------\n",
            "Epoch [25/30]\n",
            "Train Loss: 0.0014, Train Acc: 99.94%\n",
            "Val Loss: 0.0144, Val Acc: 99.52%\n",
            "--------------------------------------------------\n",
            "Epoch [26/30]\n",
            "Train Loss: 0.0002, Train Acc: 100.00%\n",
            "Val Loss: 0.0151, Val Acc: 99.52%\n",
            "--------------------------------------------------\n",
            "Epoch [27/30]\n",
            "Train Loss: 0.0002, Train Acc: 100.00%\n",
            "Val Loss: 0.0145, Val Acc: 99.52%\n",
            "--------------------------------------------------\n",
            "Epoch [28/30]\n",
            "Train Loss: 0.0030, Train Acc: 99.88%\n",
            "Val Loss: 0.0185, Val Acc: 99.52%\n",
            "--------------------------------------------------\n",
            "Epoch [29/30]\n",
            "Train Loss: 0.0015, Train Acc: 99.94%\n",
            "Val Loss: 0.0138, Val Acc: 99.52%\n",
            "--------------------------------------------------\n",
            "Epoch [30/30]\n",
            "Train Loss: 0.0051, Train Acc: 99.82%\n",
            "Val Loss: 0.0466, Val Acc: 99.28%\n",
            "--------------------------------------------------\n",
            "\n",
            " Training completed successfully!\n"
          ]
        }
      ],
      "source": [
        "print(\" Starting training...\")\n",
        "print(f\"Training will run for {NUM_EPOCHS} epochs\")\n",
        "print(f\"Best model will be saved as 'best_covid_xray_5k_classifier.pth'\")\n",
        "print(\"=\" * 60)\n",
        "\n",
        "# Train the model\n",
        "train_losses, val_losses, train_accuracies, val_accuracies = train_model(\n",
        "    model, train_loader, val_loader, criterion, optimizer, scheduler, NUM_EPOCHS, device\n",
        ")\n",
        "\n",
        "print(\"\\n Training completed successfully!\")"
      ]
    },
    {
      "cell_type": "markdown",
      "metadata": {},
      "source": [
        "## 13. Plot Training History"
      ]
    },
    {
      "cell_type": "code",
      "execution_count": 14,
      "metadata": {},
      "outputs": [
        {
          "data": {
            "image/png": "[encoded data removed]",
            "text/plain": [
              "<Figure size 1500x500 with 2 Axes>"
            ]
          },
          "metadata": {},
          "output_type": "display_data"
        },
        {
          "name": "stdout",
          "output_type": "stream",
          "text": [
            "\n",
            " Final Training Statistics:\n",
            "  Best validation accuracy: 99.76%\n",
            "  Final training accuracy: 99.82%\n",
            "  Final validation accuracy: 99.28%\n",
            "  Final training loss: 0.0051\n",
            "  Final validation loss: 0.0466\n"
          ]
        }
      ],
      "source": [
        "# Plot training history\n",
        "plot_training_history(train_losses, val_losses, train_accuracies, val_accuracies)\n",
        "\n",
        "# Print final training statistics\n",
        "print(f\"\\n Final Training Statistics:\")\n",
        "print(f\"  Best validation accuracy: {max(val_accuracies):.2f}%\")\n",
        "print(f\"  Final training accuracy: {train_accuracies[-1]:.2f}%\")\n",
        "print(f\"  Final validation accuracy: {val_accuracies[-1]:.2f}%\")\n",
        "print(f\"  Final training loss: {train_losses[-1]:.4f}\")\n",
        "print(f\"  Final validation loss: {val_losses[-1]:.4f}\")"
      ]
    },
    {
      "cell_type": "markdown",
      "metadata": {},
      "source": [
        "## 14. Evaluate on Validation Set"
      ]
    },
    {
      "cell_type": "code",
      "execution_count": 15,
      "metadata": {},
      "outputs": [
        {
          "name": "stdout",
          "output_type": "stream",
          "text": [
            "Evaluating Evaluating model on validation set...\n",
            "\n",
            "Training Validation Set Results:\n",
            "Validation Accuracy: 0.9928 (99.28%)\n",
            "\n",
            "Validation Classification Report:\n",
            "              precision    recall  f1-score   support\n",
            "\n",
            "   Non-COVID       1.00      1.00      1.00       400\n",
            "    COVID-19       0.94      0.88      0.91        17\n",
            "\n",
            "    accuracy                           0.99       417\n",
            "   macro avg       0.97      0.94      0.95       417\n",
            "weighted avg       0.99      0.99      0.99       417\n",
            "\n"
          ]
        },
        {
          "data": {
            "image/png": "[encoded data removed]",
            "text/plain": [
              "<Figure size 800x600 with 2 Axes>"
            ]
          },
          "metadata": {},
          "output_type": "display_data"
        }
      ],
      "source": [
        "print(\"Evaluating Evaluating model on validation set...\")\n",
        "val_accuracy, val_report, val_conf_matrix, val_predictions, val_labels = evaluate_model(model, val_loader, device)\n",
        "\n",
        "print(f\"\\nTraining Validation Set Results:\")\n",
        "print(f\"Validation Accuracy: {val_accuracy:.4f} ({val_accuracy*100:.2f}%)\")\n",
        "print(\"\\nValidation Classification Report:\")\n",
        "print(val_report)\n",
        "\n",
        "# Plot validation confusion matrix\n",
        "plot_confusion_matrix(val_conf_matrix)"
      ]
    },
    {
      "cell_type": "markdown",
      "metadata": {},
      "source": [
        "## 15. Final Test Set Evaluation (Unseen Data) Testing"
      ]
    },
    {
      "cell_type": "code",
      "execution_count": 16,
      "metadata": {},
      "outputs": [
        {
          "name": "stdout",
          "output_type": "stream",
          "text": [
            "\n",
            "============================================================\n",
            "Testing FINAL TEST SET EVALUATION (UNSEEN DATA)\n",
            "============================================================\n",
            "\n",
            "Dataset TEST SET RESULTS (3,100 images - 100 COVID + 3,000 Non-COVID):\n",
            "Overall Accuracy: 0.9952 (99.52%)\n",
            "\n",
            "Evaluating COVID-19 Detection (100 images):\n",
            "  Correctly identified: 89/100\n",
            "  COVID-19 Accuracy: 0.8900 (89.00%)\n",
            "\n",
            "Evaluating Non-COVID Detection (3,000 images):\n",
            "  Correctly identified: 2996/3000\n",
            "  Non-COVID Accuracy: 0.9987 (99.87%)\n",
            "\n",
            "Training Detailed Classification Report:\n",
            "              precision    recall  f1-score   support\n",
            "\n",
            "   Non-COVID       1.00      1.00      1.00      3000\n",
            "    COVID-19       0.96      0.89      0.92       100\n",
            "\n",
            "    accuracy                           1.00      3100\n",
            "   macro avg       0.98      0.94      0.96      3100\n",
            "weighted avg       1.00      1.00      1.00      3100\n",
            "\n"
          ]
        }
      ],
      "source": [
        "print(\"\\n\" + \"=\"*60)\n",
        "print(\"Testing FINAL TEST SET EVALUATION (UNSEEN DATA)\")\n",
        "print(\"=\"*60)\n",
        "\n",
        "test_accuracy, test_report, test_conf_matrix, test_predictions, test_labels = evaluate_model(model, test_loader, device)\n",
        "\n",
        "# Calculate additional metrics\n",
        "covid_correct = sum(1 for i in range(len(test_labels)) if test_labels[i] == 1 and test_predictions[i] == 1)\n",
        "covid_total = sum(1 for label in test_labels if label == 1)\n",
        "non_covid_correct = sum(1 for i in range(len(test_labels)) if test_labels[i] == 0 and test_predictions[i] == 0)\n",
        "non_covid_total = sum(1 for label in test_labels if label == 0)\n",
        "\n",
        "print(f\"\\nDataset TEST SET RESULTS (3,100 images - 100 COVID + 3,000 Non-COVID):\")\n",
        "print(f\"Overall Accuracy: {test_accuracy:.4f} ({test_accuracy*100:.2f}%)\")\n",
        "print(f\"\\nEvaluating COVID-19 Detection (100 images):\")\n",
        "print(f\"  Correctly identified: {covid_correct}/{covid_total}\")\n",
        "if covid_total > 0:\n",
        "    print(f\"  COVID-19 Accuracy: {covid_correct/covid_total:.4f} ({covid_correct/covid_total*100:.2f}%)\")\n",
        "else:\n",
        "    print(f\"  COVID-19 Accuracy: N/A (no COVID samples)\")\n",
        "print(f\"\\nEvaluating Non-COVID Detection (3,000 images):\")\n",
        "print(f\"  Correctly identified: {non_covid_correct}/{non_covid_total}\")\n",
        "if non_covid_total > 0:\n",
        "    print(f\"  Non-COVID Accuracy: {non_covid_correct/non_covid_total:.4f} ({non_covid_correct/non_covid_total*100:.2f}%)\")\n",
        "else:\n",
        "    print(f\"  Non-COVID Accuracy: N/A (no Non-COVID samples)\")\n",
        "\n",
        "print(f\"\\nTraining Detailed Classification Report:\")\n",
        "print(test_report)"
      ]
    },
    {
      "cell_type": "markdown",
      "metadata": {},
      "source": [
        "## 16. Test Set Confusion Matrix"
      ]
    },
    {
      "cell_type": "code",
      "execution_count": 17,
      "metadata": {},
      "outputs": [
        {
          "name": "stdout",
          "output_type": "stream",
          "text": [
            "\n",
            "Dataset Test Set Confusion Matrix Visualization:\n"
          ]
        },
        {
          "data": {
            "image/png": "[encoded data removed]",
            "text/plain": [
              "<Figure size 800x600 with 2 Axes>"
            ]
          },
          "metadata": {},
          "output_type": "display_data"
        }
      ],
      "source": [
        "# Plot test confusion matrix\n",
        "print(f\"\\nDataset Test Set Confusion Matrix Visualization:\")\n",
        "plot_confusion_matrix(test_conf_matrix)"
      ]
    }
  ],
  "metadata": {
    "kernelspec": {
      "display_name": "venv",
      "language": "python",
      "name": "python3"
    },
    "language_info": {
      "codemirror_mode": {
        "name": "ipython",
        "version": 3
      },
      "file_extension": ".py",
      "mimetype": "text/x-python",
      "name": "python",
      "nbconvert_exporter": "python",
      "pygments_lexer": "ipython3",
      "version": "3.12.8"
    }
  },
  "nbformat": 4,
  "nbformat_minor": 4
}
